{
 "cells": [
  {
   "cell_type": "markdown",
   "metadata": {},
   "source": [
    "To install Python and pip, follow these steps:\n",
    "\n",
    "   1. **Download Python:**\n",
    "      Visit the official Python website at https://www.python.org/downloads/. Download the version that is appropriate for your operating system (Windows, MacOS, Linux). \n",
    "\n",
    "   2. **Install Python:**\n",
    "      Run the installer that you downloaded. On the first installer page, make sure you check the box labeled \"Add Python to PATH\" before clicking \"Install Now\".\n",
    "\n",
    "   3. **Verify Python Installation:**\n",
    "      Open a new terminal window (Command Prompt for Windows, Terminal for MacOS and Linux). Type the following command and press Enter:\n",
    "\n",
    "      ```bash\n",
    "      python --version\n",
    "      ```\n",
    "      If Python is installed correctly, you should see a response with the Python version number.\n",
    "\n",
    "   4. **Install pip:**\n",
    "      Pip is included by default with Python 3.4 and later versions. You can check if pip is installed by typing the following command in your terminal and pressing Enter:\n",
    "\n",
    "      ```bash\n",
    "      pip --version\n",
    "      ```\n",
    "      You can verify the installation by running `pip --version`\n",
    "      "
   ]
  },
  {
   "cell_type": "markdown",
   "metadata": {},
   "source": [
    "\n",
    "Once the Python environment is set up and the packages are installed, you can execute the code without any issues. If you don't have it yet, remember to read the above instruction before running the below code.\n",
    "\n",
    "\n",
    "\n"
   ]
  },
  {
   "cell_type": "code",
   "execution_count": 1,
   "metadata": {},
   "outputs": [
    {
     "name": "stdout",
     "output_type": "stream",
     "text": [
      "Requirement already satisfied: selenium in /home/eaint/anaconda3/envs/webenv/lib/python3.12/site-packages (4.16.0)\n",
      "Requirement already satisfied: webdriver_manager in /home/eaint/anaconda3/envs/webenv/lib/python3.12/site-packages (4.0.1)\n",
      "Requirement already satisfied: urllib3<3,>=1.26 in /home/eaint/.local/lib/python3.12/site-packages (from urllib3[socks]<3,>=1.26->selenium) (2.1.0)\n",
      "Requirement already satisfied: trio~=0.17 in /home/eaint/anaconda3/envs/webenv/lib/python3.12/site-packages (from selenium) (0.23.2)\n",
      "Requirement already satisfied: trio-websocket~=0.9 in /home/eaint/anaconda3/envs/webenv/lib/python3.12/site-packages (from selenium) (0.11.1)\n",
      "Requirement already satisfied: certifi>=2021.10.8 in /home/eaint/.local/lib/python3.12/site-packages (from selenium) (2023.11.17)\n",
      "Requirement already satisfied: requests in /home/eaint/.local/lib/python3.12/site-packages (from webdriver_manager) (2.31.0)\n",
      "Requirement already satisfied: python-dotenv in /home/eaint/anaconda3/envs/webenv/lib/python3.12/site-packages (from webdriver_manager) (1.0.0)\n",
      "Requirement already satisfied: packaging in /home/eaint/anaconda3/envs/webenv/lib/python3.12/site-packages (from webdriver_manager) (23.2)\n",
      "Requirement already satisfied: attrs>=20.1.0 in /home/eaint/anaconda3/envs/webenv/lib/python3.12/site-packages (from trio~=0.17->selenium) (23.1.0)\n",
      "Requirement already satisfied: sortedcontainers in /home/eaint/anaconda3/envs/webenv/lib/python3.12/site-packages (from trio~=0.17->selenium) (2.4.0)\n",
      "Requirement already satisfied: idna in /home/eaint/.local/lib/python3.12/site-packages (from trio~=0.17->selenium) (3.4)\n",
      "Requirement already satisfied: outcome in /home/eaint/anaconda3/envs/webenv/lib/python3.12/site-packages (from trio~=0.17->selenium) (1.3.0.post0)\n",
      "Requirement already satisfied: sniffio>=1.3.0 in /home/eaint/anaconda3/envs/webenv/lib/python3.12/site-packages (from trio~=0.17->selenium) (1.3.0)\n",
      "Requirement already satisfied: wsproto>=0.14 in /home/eaint/anaconda3/envs/webenv/lib/python3.12/site-packages (from trio-websocket~=0.9->selenium) (1.2.0)\n",
      "Requirement already satisfied: pysocks!=1.5.7,<2.0,>=1.5.6 in /home/eaint/anaconda3/envs/webenv/lib/python3.12/site-packages (from urllib3[socks]<3,>=1.26->selenium) (1.7.1)\n",
      "Requirement already satisfied: charset-normalizer<4,>=2 in /home/eaint/.local/lib/python3.12/site-packages (from requests->webdriver_manager) (3.3.2)\n",
      "Requirement already satisfied: h11<1,>=0.9.0 in /home/eaint/anaconda3/envs/webenv/lib/python3.12/site-packages (from wsproto>=0.14->trio-websocket~=0.9->selenium) (0.14.0)\n",
      "Note: you may need to restart the kernel to use updated packages.\n"
     ]
    }
   ],
   "source": [
    "# This code snippet installs the required packages: selenium, webdriver_manager\n",
    "\n",
    "%pip install selenium webdriver_manager"
   ]
  },
  {
   "cell_type": "code",
   "execution_count": 2,
   "metadata": {},
   "outputs": [],
   "source": [
    "# Import necessary libraries\n",
    "from selenium import webdriver\n",
    "from selenium.webdriver.common.by import By\n",
    "from selenium.webdriver.chrome.service import Service\n",
    "from selenium.webdriver.chrome.options import Options\n",
    "from webdriver_manager.chrome import ChromeDriverManager\n",
    "import time"
   ]
  },
  {
   "cell_type": "markdown",
   "metadata": {},
   "source": [
    " When you try to login to your Google account, Google checks the browser and the app to ensure they meet certain security standards. If they don't, Google blocks the login attempt with the error \" The error \"This browser or app may not be secure\" is a security feature from Google.\" \n",
    "\n",
    "  To workaround is to enable less secure apps to access your account **Note! it can make your account more vulnerable to hacking. Test with extra account only**\n"
   ]
  },
  {
   "cell_type": "code",
   "execution_count": 3,
   "metadata": {},
   "outputs": [],
   "source": [
    "# Setup Chrome options to \n",
    "    #Disable the \"enable-automation\" flag.\n",
    "    #Add the \"no-sandbox\" argument.\n",
    "    #Add the \"disable-infobars\" argument.\n",
    "    #Add the \"disable-dev-shm-usage\" argument.\n",
    "\n",
    "\n",
    "chrome_options = Options()\n",
    "chrome_options.add_argument(\"--disable-blink-features=AutomationControlled\")\n",
    "chrome_options.add_argument(\"--no-sandbox\")\n",
    "chrome_options.add_argument(\"--disable-infobars\")\n",
    "chrome_options.add_argument(\"--disable-dev-shm-usage\")"
   ]
  },
  {
   "cell_type": "code",
   "execution_count": 13,
   "metadata": {},
   "outputs": [],
   "source": [
    "# Set the driver\n",
    "webdriver_service = Service(ChromeDriverManager().install())\n",
    "driver = webdriver.Chrome(service=webdriver_service, options=chrome_options)\n",
    "\n",
    "# test open google website\n",
    "driver.get('https://www.google.com')"
   ]
  },
  {
   "cell_type": "code",
   "execution_count": 14,
   "metadata": {},
   "outputs": [],
   "source": [
    "#navigate to login gmail\n",
    "driver.get(\"https://accounts.google.com/v3/signin/identifier?continue=https%3A%2F%2Fmail.google.com%2Fmail%2F&hl=en&service=mail&flowName=GlifWebSignIn&flowEntry=AddSession\")"
   ]
  },
  {
   "cell_type": "code",
   "execution_count": 17,
   "metadata": {},
   "outputs": [],
   "source": [
    "# Identify the user name text box and enter the value\n",
    "driver.find_element(By.ID, \"identifierId\").send_keys(\"yourgmailacc@gmail.com\")\n",
    "time.sleep(2)"
   ]
  },
  {
   "cell_type": "code",
   "execution_count": 18,
   "metadata": {},
   "outputs": [],
   "source": [
    "# Clicks on the 'Next' button and waits for 2 seconds.\n",
    "driver.find_element(By.XPATH, \"//span[text()='Next']\").click()\n",
    "time.sleep(2)"
   ]
  },
  {
   "cell_type": "code",
   "execution_count": 20,
   "metadata": {},
   "outputs": [],
   "source": [
    "driver.find_element(By.XPATH, '//input[@name=\"Passwd\"]').send_keys(\"yourpassword\")\n",
    "time.sleep(2)"
   ]
  },
  {
   "cell_type": "code",
   "execution_count": 21,
   "metadata": {},
   "outputs": [],
   "source": [
    "# Clicks on the 'Next' button again and waits for 2 seconds.\n",
    "driver.find_element(By.XPATH, \"//span[text()='Next']\").click()\n",
    "time.sleep(2)"
   ]
  },
  {
   "cell_type": "code",
   "execution_count": 22,
   "metadata": {},
   "outputs": [],
   "source": [
    "#close the browser  \n",
    "driver.close()"
   ]
  }
 ],
 "metadata": {
  "kernelspec": {
   "display_name": "webenv",
   "language": "python",
   "name": "python3"
  },
  "language_info": {
   "codemirror_mode": {
    "name": "ipython",
    "version": 3
   },
   "file_extension": ".py",
   "mimetype": "text/x-python",
   "name": "python",
   "nbconvert_exporter": "python",
   "pygments_lexer": "ipython3",
   "version": "3.12.0"
  }
 },
 "nbformat": 4,
 "nbformat_minor": 2
}
